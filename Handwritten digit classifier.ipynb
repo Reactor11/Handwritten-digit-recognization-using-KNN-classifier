{
 "cells": [
  {
   "cell_type": "markdown",
   "metadata": {},
   "source": [
    "# Handwritten digit recognization by KNN classifier using MINST DATASET.\n"
   ]
  },
  {
   "cell_type": "markdown",
   "metadata": {},
   "source": [
    "## Importing and installing necessary modules \n",
    "\n",
    "* To read about the MINST handwritten dataset go to [Minst dataset](http://yann.lecun.com/exdb/mnist/)\n",
    "* The data is already downloaded into two folder's named : \n",
    "    1. Training data<br>\n",
    "        1.1 train-images.idx3-ubyte - It contains training data of 60,000 handwritten images.<br>\n",
    "        1.2 train-labels.idx1-ubyte - It contains the label of the digit corresponding to the features.\n",
    "    2. Test data<br>\n",
    "        2.1 t10k-images.idx3-ubyte - It contains testing data of 10,000 handwritten images.<br>\n",
    "        2.2 t10k-labels.idx1-ubyte - It contains the label of the digit corresponding to the features of test data."
   ]
  },
  {
   "cell_type": "code",
   "execution_count": 14,
   "metadata": {},
   "outputs": [
    {
     "name": "stdout",
     "output_type": "stream",
     "text": [
      "Requirement already satisfied: idx2numpy in c:\\users\\lenovo\\anaconda3\\lib\\site-packages (1.2.2)\n",
      "Requirement already satisfied: six in c:\\users\\lenovo\\anaconda3\\lib\\site-packages (from idx2numpy) (1.11.0)\n",
      "Requirement already satisfied: numpy in c:\\users\\lenovo\\anaconda3\\lib\\site-packages (from idx2numpy) (1.14.0)\n"
     ]
    },
    {
     "name": "stderr",
     "output_type": "stream",
     "text": [
      "WARNING: You are using pip version 19.1, however version 19.1.1 is available.\n",
      "You should consider upgrading via the 'python -m pip install --upgrade pip' command.\n"
     ]
    },
    {
     "name": "stdout",
     "output_type": "stream",
     "text": [
      "Requirement already satisfied: sklearn in c:\\users\\lenovo\\anaconda3\\lib\\site-packages (0.0)\n",
      "Requirement already satisfied: scikit-learn in c:\\users\\lenovo\\anaconda3\\lib\\site-packages (from sklearn) (0.19.1)\n"
     ]
    },
    {
     "name": "stderr",
     "output_type": "stream",
     "text": [
      "WARNING: You are using pip version 19.1, however version 19.1.1 is available.\n",
      "You should consider upgrading via the 'python -m pip install --upgrade pip' command.\n"
     ]
    },
    {
     "name": "stdout",
     "output_type": "stream",
     "text": [
      "Requirement already satisfied: numpy in c:\\users\\lenovo\\anaconda3\\lib\\site-packages (1.14.0)\n"
     ]
    },
    {
     "name": "stderr",
     "output_type": "stream",
     "text": [
      "WARNING: You are using pip version 19.1, however version 19.1.1 is available.\n",
      "You should consider upgrading via the 'python -m pip install --upgrade pip' command.\n"
     ]
    },
    {
     "name": "stdout",
     "output_type": "stream",
     "text": [
      "Requirement already satisfied: pandas in c:\\users\\lenovo\\anaconda3\\lib\\site-packages (0.22.0)\n",
      "Requirement already satisfied: python-dateutil>=2 in c:\\users\\lenovo\\anaconda3\\lib\\site-packages (from pandas) (2.6.1)\n",
      "Requirement already satisfied: pytz>=2011k in c:\\users\\lenovo\\anaconda3\\lib\\site-packages (from pandas) (2017.3)\n",
      "Requirement already satisfied: numpy>=1.9.0 in c:\\users\\lenovo\\anaconda3\\lib\\site-packages (from pandas) (1.14.0)\n",
      "Requirement already satisfied: six>=1.5 in c:\\users\\lenovo\\anaconda3\\lib\\site-packages (from python-dateutil>=2->pandas) (1.11.0)\n"
     ]
    },
    {
     "name": "stderr",
     "output_type": "stream",
     "text": [
      "WARNING: You are using pip version 19.1, however version 19.1.1 is available.\n",
      "You should consider upgrading via the 'python -m pip install --upgrade pip' command.\n"
     ]
    }
   ],
   "source": [
    "!pip install idx2numpy\n",
    "!pip install sklearn\n",
    "!pip install numpy\n",
    "!pip install pandas\n",
    "\n",
    "from sklearn.neighbors import KNeighborsClassifier\n",
    "from sklearn import datasets\n",
    "import idx2numpy\n",
    "import numpy as np\n",
    "import pandas as pd"
   ]
  },
  {
   "cell_type": "code",
   "execution_count": 16,
   "metadata": {},
   "outputs": [
    {
     "name": "stdout",
     "output_type": "stream",
     "text": [
      "Shape of the training array : (60000, 28, 28) \n",
      "Shape of the test array : (10000, 28, 28) \n"
     ]
    }
   ],
   "source": [
    "# Since the data from the database was in binary format, we have to convert into numpy array.\n",
    "# So, we use 'idx2numpy' module which has 'convert_from_file' function that convert the idx data to numpy array.\n",
    "X_train = idx2numpy.convert_from_file('Training data/train-images.idx3-ubyte')\n",
    "y_train = idx2numpy.convert_from_file('Training data/train-labels.idx1-ubyte')\n",
    "X_test = idx2numpy.convert_from_file('Test data/t10k-images.idx3-ubyte')\n",
    "y_test = idx2numpy.convert_from_file('Test data/t10k-labels.idx1-ubyte')\n",
    "\n",
    "print(f'Shape of the training array : {X_train.shape} ')\n",
    "print(f'Shape of the test array : {X_test.shape} ')\n",
    "\n",
    "#Reshaping the training feature np_array and testing feature np_array since KNN classifier takes 2-d array as arguments.\n",
    "#But the data is in 3-d array.\n",
    "X_train = X_train.flatten()\n",
    "X_train = X_train.reshape(60000,784)\n",
    "X_test = X_test.flatten()\n",
    "X_test = X_test.reshape(10000,784) "
   ]
  },
  {
   "cell_type": "code",
   "execution_count": 3,
   "metadata": {},
   "outputs": [
    {
     "data": {
      "text/plain": [
       "KNeighborsClassifier(algorithm='auto', leaf_size=30, metric='minkowski',\n",
       "           metric_params=None, n_jobs=-1, n_neighbors=7, p=2,\n",
       "           weights='uniform')"
      ]
     },
     "execution_count": 3,
     "metadata": {},
     "output_type": "execute_result"
    }
   ],
   "source": [
    "# Initializing KNN classifier with 7 neighbours.\n",
    "# We can change n_neighbors to avoid underfitting or overfitting of data. \n",
    "# If we decrease there are chances of overfitiing.\n",
    "# If we increase there are chances of underfitiing.\n",
    "# Since the KNN classifier take a lot of time so to lower the time consumption we use all the cores of cpu by providing\n",
    "# n_jobs=-1 as argument. If your system has lower specification change it to 1.\n",
    "knn = KNeighborsClassifier(n_neighbors=7,n_jobs=-1)\n",
    "\n",
    "# Fitting or traning the model.\n",
    "knn.fit(X_train,y_train)"
   ]
  },
  {
   "cell_type": "code",
   "execution_count": null,
   "metadata": {},
   "outputs": [],
   "source": [
    "# Gives the Accuracy score of the model.\n",
    "acc_testData= knn.score(X_test,y_test) * 100\n",
    "# acc_trainData = knn.score(X_train,y_train) * 100 // Uncomment to find the accuracy of training data, But it takes a lot of time"
   ]
  },
  {
   "cell_type": "code",
   "execution_count": null,
   "metadata": {},
   "outputs": [],
   "source": [
    "print(f'Accuracy of Test data : {acc_testData}')\n",
    "# print(f'Accuracy of Test data : {acc_trainData}') // Uncomment to print the accuracy of training data."
   ]
  },
  {
   "cell_type": "code",
   "execution_count": 11,
   "metadata": {},
   "outputs": [
    {
     "name": "stdout",
     "output_type": "stream",
     "text": [
      "Actual digit in test data : 7\n",
      "Predicted digit by the classifier : [7]\n"
     ]
    }
   ],
   "source": [
    "# Predict the digit using the unknown data(TEST DATA) provided to the model.\n",
    "pred = knn.predict(X_test[0].reshape(1, -1))\n",
    "print(f'Actual digit in test data : {y_test[0]}')\n",
    "print(f'Predicted digit by the classifier : {pred}')"
   ]
  },
  {
   "cell_type": "code",
   "execution_count": null,
   "metadata": {},
   "outputs": [],
   "source": []
  }
 ],
 "metadata": {
  "kernelspec": {
   "display_name": "Python 3",
   "language": "python",
   "name": "python3"
  },
  "language_info": {
   "codemirror_mode": {
    "name": "ipython",
    "version": 3
   },
   "file_extension": ".py",
   "mimetype": "text/x-python",
   "name": "python",
   "nbconvert_exporter": "python",
   "pygments_lexer": "ipython3",
   "version": "3.6.4"
  }
 },
 "nbformat": 4,
 "nbformat_minor": 2
}
